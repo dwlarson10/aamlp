{
 "cells": [
  {
   "cell_type": "markdown",
   "metadata": {},
   "source": [
    "## Chapter 3: Evaluation\n",
    "\n",
    "Looking at different types of evaluation"
   ]
  },
  {
   "cell_type": "code",
   "execution_count": 1,
   "metadata": {},
   "outputs": [],
   "source": [
    "def accuracy(y_true,y_pred):\n",
    "    '''\n",
    "    function to caluclate accuracy\n",
    "    '''\n",
    "\n",
    "    correct_counter = 0\n",
    "\n",
    "    for yt,yp in zip(y_true,y_pred):\n",
    "        if yt == yp:\n",
    "            correct_counter += 1\n",
    "\n",
    "    return correct_counter / len(y_true)"
   ]
  },
  {
   "cell_type": "code",
   "execution_count": 2,
   "metadata": {},
   "outputs": [
    {
     "data": {
      "text/plain": [
       "0.625"
      ]
     },
     "execution_count": 2,
     "metadata": {},
     "output_type": "execute_result"
    }
   ],
   "source": [
    "from sklearn import metrics\n",
    "\n",
    "l1 = [0,1,1,1,0,0,0,1]\n",
    "l2 = [0,1,0,1,0,1,0,0]\n",
    "\n",
    "metrics.accuracy_score(l1,l2)"
   ]
  },
  {
   "cell_type": "code",
   "execution_count": 3,
   "metadata": {},
   "outputs": [
    {
     "data": {
      "text/plain": [
       "0.625"
      ]
     },
     "execution_count": 3,
     "metadata": {},
     "output_type": "execute_result"
    }
   ],
   "source": [
    "accuracy(l1,l2)"
   ]
  },
  {
   "cell_type": "code",
   "execution_count": 8,
   "metadata": {},
   "outputs": [],
   "source": [
    "def true_positive(y_true,y_pred):\n",
    "    '''\n",
    "    function to true positives\n",
    "    '''\n",
    "\n",
    "    tp = 0\n",
    "\n",
    "    for yt,yp in zip(y_true,y_pred):\n",
    "        if yt == 1 and yp==1:\n",
    "            tp += 1\n",
    "\n",
    "    return tp\n",
    "\n",
    "def true_negatives(y_true,y_pred):\n",
    "    '''\n",
    "    function to true positives\n",
    "    '''\n",
    "\n",
    "    tn = 0\n",
    "\n",
    "    for yt,yp in zip(y_true,y_pred):\n",
    "        if yt == 0 and yp==0:\n",
    "            tn += 1\n",
    "\n",
    "    return tn\n",
    "\n",
    "\n",
    "def false_positive(y_true,y_pred):\n",
    "    '''\n",
    "    function to true positives\n",
    "    '''\n",
    "\n",
    "    fp = 0\n",
    "\n",
    "    for yt,yp in zip(y_true,y_pred):\n",
    "        if yt == 0 and yp==1:\n",
    "            fp += 1\n",
    "\n",
    "    return fp\n",
    "\n",
    "\n",
    "def false_negatives(y_true,y_pred):\n",
    "    '''\n",
    "    function to true positives\n",
    "    '''\n",
    "\n",
    "    fn = 0\n",
    "\n",
    "    for yt,yp in zip(y_true,y_pred):\n",
    "        if yt == 1 and yp==0:\n",
    "            fn += 1\n",
    "\n",
    "    return fn"
   ]
  },
  {
   "cell_type": "code",
   "execution_count": 9,
   "metadata": {},
   "outputs": [
    {
     "name": "stdout",
     "output_type": "stream",
     "text": [
      "2\n",
      "1\n",
      "2\n",
      "3\n"
     ]
    }
   ],
   "source": [
    "print(true_positive(l1,l2))\n",
    "\n",
    "print(false_positive(l1,l2))\n",
    "\n",
    "print(false_negatives(l1,l2))\n",
    "\n",
    "print(true_negatives(l1,l2))"
   ]
  },
  {
   "cell_type": "code",
   "execution_count": 10,
   "metadata": {},
   "outputs": [],
   "source": [
    "def precision(y_true, y_pred):\n",
    "    \"\"\"\n",
    "    function to calculate precision\n",
    "    :param y_true\n",
    "    :param y_pred\n",
    "    return precision socre\n",
    "    \"\"\"\n",
    "\n",
    "    tp = true_positive(y_true,y_pred)\n",
    "    fp = false_positive(y_true,y_pred)\n",
    "    precision = tp / (tp + fp)\n",
    "    return precision"
   ]
  },
  {
   "cell_type": "code",
   "execution_count": 11,
   "metadata": {},
   "outputs": [
    {
     "data": {
      "text/plain": [
       "0.6666666666666666"
      ]
     },
     "execution_count": 11,
     "metadata": {},
     "output_type": "execute_result"
    }
   ],
   "source": [
    "precision(l1,l2)"
   ]
  },
  {
   "cell_type": "code",
   "execution_count": 12,
   "metadata": {},
   "outputs": [],
   "source": [
    "def recall(y_true, y_pred):\n",
    "    \"\"\"\n",
    "    function to calculate precision\n",
    "    :param y_true\n",
    "    :param y_pred\n",
    "    return recall socre\n",
    "    \"\"\"\n",
    "\n",
    "    tp = true_positive(y_true,y_pred)\n",
    "    fn = false_negatives(y_true,y_pred)\n",
    "    recall = tp / (tp + fn)\n",
    "    return recall"
   ]
  },
  {
   "cell_type": "code",
   "execution_count": 13,
   "metadata": {},
   "outputs": [
    {
     "data": {
      "text/plain": [
       "0.5"
      ]
     },
     "execution_count": 13,
     "metadata": {},
     "output_type": "execute_result"
    }
   ],
   "source": [
    "recall(l1,l2)"
   ]
  },
  {
   "cell_type": "code",
   "execution_count": null,
   "metadata": {},
   "outputs": [],
   "source": []
  }
 ],
 "metadata": {
  "kernelspec": {
   "display_name": ".venv",
   "language": "python",
   "name": "python3"
  },
  "language_info": {
   "codemirror_mode": {
    "name": "ipython",
    "version": 3
   },
   "file_extension": ".py",
   "mimetype": "text/x-python",
   "name": "python",
   "nbconvert_exporter": "python",
   "pygments_lexer": "ipython3",
   "version": "3.11.8"
  }
 },
 "nbformat": 4,
 "nbformat_minor": 2
}
