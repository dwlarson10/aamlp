{
 "cells": [
  {
   "cell_type": "markdown",
   "metadata": {},
   "source": [
    "## Chapter 3: Evaluation\n",
    "\n",
    "Looking at different types of evaluation"
   ]
  },
  {
   "cell_type": "code",
   "execution_count": 10,
   "metadata": {},
   "outputs": [],
   "source": [
    "def accuracy(y_true,y_pred):\n",
    "    '''\n",
    "    function to caluclate accuracy\n",
    "    '''\n",
    "\n",
    "    correct_counter = 0\n",
    "\n",
    "    for yt,yp in zip(y_true,y_pred):\n",
    "        if yt == yp:\n",
    "            correct_counter += 1\n",
    "\n",
    "    return correct_counter / len(y_true)"
   ]
  },
  {
   "cell_type": "code",
   "execution_count": 11,
   "metadata": {},
   "outputs": [
    {
     "data": {
      "text/plain": [
       "0.625"
      ]
     },
     "execution_count": 11,
     "metadata": {},
     "output_type": "execute_result"
    }
   ],
   "source": [
    "from sklearn import metrics\n",
    "\n",
    "l1 = [0,1,1,1,0,0,0,1]\n",
    "l2 = [0,1,0,1,0,1,0,0]\n",
    "\n",
    "metrics.accuracy_score(l1,l2)"
   ]
  },
  {
   "cell_type": "code",
   "execution_count": 12,
   "metadata": {},
   "outputs": [
    {
     "data": {
      "text/plain": [
       "0.625"
      ]
     },
     "execution_count": 12,
     "metadata": {},
     "output_type": "execute_result"
    }
   ],
   "source": [
    "accuracy(l1,l2)"
   ]
  },
  {
   "cell_type": "code",
   "execution_count": 13,
   "metadata": {},
   "outputs": [],
   "source": [
    "def true_positive(y_true,y_pred):\n",
    "    '''\n",
    "    function to true positives\n",
    "    '''\n",
    "\n",
    "    tp = 0\n",
    "\n",
    "    for yt,yp in zip(y_true,y_pred):\n",
    "        if yt == 1 and yp==1:\n",
    "            tp += 1\n",
    "\n",
    "    return tp\n",
    "\n",
    "def true_negatives(y_true,y_pred):\n",
    "    '''\n",
    "    function to true positives\n",
    "    '''\n",
    "\n",
    "    tn = 0\n",
    "\n",
    "    for yt,yp in zip(y_true,y_pred):\n",
    "        if yt == 0 and yp==0:\n",
    "            tn += 1\n",
    "\n",
    "    return tn\n",
    "\n",
    "\n",
    "def false_positive(y_true,y_pred):\n",
    "    '''\n",
    "    function to true positives\n",
    "    '''\n",
    "\n",
    "    fp = 0\n",
    "\n",
    "    for yt,yp in zip(y_true,y_pred):\n",
    "        if yt == 0 and yp==1:\n",
    "            fp += 1\n",
    "\n",
    "    return fp\n",
    "\n",
    "\n",
    "def false_negatives(y_true,y_pred):\n",
    "    '''\n",
    "    function to true positives\n",
    "    '''\n",
    "\n",
    "    fn = 0\n",
    "\n",
    "    for yt,yp in zip(y_true,y_pred):\n",
    "        if yt == 1 and yp==0:\n",
    "            fn += 1\n",
    "\n",
    "    return fn"
   ]
  },
  {
   "cell_type": "code",
   "execution_count": 14,
   "metadata": {},
   "outputs": [
    {
     "name": "stdout",
     "output_type": "stream",
     "text": [
      "2\n",
      "1\n",
      "2\n",
      "3\n"
     ]
    }
   ],
   "source": [
    "print(true_positive(l1,l2))\n",
    "\n",
    "print(false_positive(l1,l2))\n",
    "\n",
    "print(false_negatives(l1,l2))\n",
    "\n",
    "print(true_negatives(l1,l2))"
   ]
  },
  {
   "cell_type": "code",
   "execution_count": 15,
   "metadata": {},
   "outputs": [],
   "source": [
    "def precision(y_true, y_pred):\n",
    "    \"\"\"\n",
    "    function to calculate precision\n",
    "    :param y_true\n",
    "    :param y_pred\n",
    "    return precision socre\n",
    "    \"\"\"\n",
    "\n",
    "    tp = true_positive(y_true,y_pred)\n",
    "    fp = false_positive(y_true,y_pred)\n",
    "    precision = tp / (tp + fp)\n",
    "    return precision"
   ]
  },
  {
   "cell_type": "code",
   "execution_count": 16,
   "metadata": {},
   "outputs": [
    {
     "ename": "NameError",
     "evalue": "name 'y_true' is not defined",
     "output_type": "error",
     "traceback": [
      "\u001b[1;31m---------------------------------------------------------------------------\u001b[0m",
      "\u001b[1;31mNameError\u001b[0m                                 Traceback (most recent call last)",
      "Cell \u001b[1;32mIn[16], line 1\u001b[0m\n\u001b[1;32m----> 1\u001b[0m precision(\u001b[43my_true\u001b[49m,y_pred)\n",
      "\u001b[1;31mNameError\u001b[0m: name 'y_true' is not defined"
     ]
    }
   ],
   "source": [
    "precision(y_true,y_pred)"
   ]
  },
  {
   "cell_type": "code",
   "execution_count": 17,
   "metadata": {},
   "outputs": [],
   "source": [
    "def recall(y_true, y_pred):\n",
    "    \"\"\"\n",
    "    function to calculate precision\n",
    "    :param y_true\n",
    "    :param y_pred\n",
    "    return recall socre\n",
    "    \"\"\"\n",
    "\n",
    "    tp = true_positive(y_true,y_pred)\n",
    "    fn = false_negatives(y_true,y_pred)\n",
    "    recall = tp / (tp + fn)\n",
    "    return recall"
   ]
  },
  {
   "cell_type": "code",
   "execution_count": 18,
   "metadata": {},
   "outputs": [
    {
     "data": {
      "text/plain": [
       "0.5"
      ]
     },
     "execution_count": 18,
     "metadata": {},
     "output_type": "execute_result"
    }
   ],
   "source": [
    "recall(l1,l2)"
   ]
  },
  {
   "cell_type": "code",
   "execution_count": 19,
   "metadata": {},
   "outputs": [],
   "source": [
    "y_true = [0, 0, 0, 1, 0, 0, 0, 0, 0, 0,\n",
    "        1, 0, 0, 0, 0, 0, 0, 0, 1, 0]\n",
    "y_pred = [0.02638412, 0.11114267, 0.31620708,\n",
    "            0.0490937, 0.0191491, 0.17554844,\n",
    "            0.15952202, 0.03819563, 0.11639273,\n",
    "            0.079377, 0.08584789, 0.39095342,\n",
    "            0.27259048, 0.03447096, 0.04644807,\n",
    "            0.03543574, 0.18521942, 0.05934905,\n",
    "            0.61977213, 0.33056815]"
   ]
  },
  {
   "cell_type": "code",
   "execution_count": 20,
   "metadata": {},
   "outputs": [],
   "source": [
    "precisions = []\n",
    "recalls = []\n",
    "# how we assumed these thresholds is a long story\n",
    "thresholds = [0.0490937 , 0.05934905, 0.079377,\n",
    "            0.08584789, 0.11114267, 0.11639273,\n",
    "            0.15952202, 0.17554844, 0.18521942,\n",
    "            0.27259048, 0.31620708, 0.33056815,\n",
    "            0.39095342, 0.61977213]\n",
    "# for every threshold, calculate predictions in binary\n",
    "# and append calculated precisions and recalls\n",
    "# to their respective lists\n",
    "for i in thresholds:\n",
    "    temp_prediction = [1 if x >= i else 0 for x in y_pred]\n",
    "    p = precision(y_true, temp_prediction)\n",
    "    r = recall(y_true, temp_prediction)\n",
    "    precisions.append(p)\n",
    "    recalls.append(r)"
   ]
  },
  {
   "cell_type": "code",
   "execution_count": 21,
   "metadata": {},
   "outputs": [],
   "source": [
    "import matplotlib\n",
    "import matplotlib.pyplot as plt\n",
    "import seaborn as sns"
   ]
  },
  {
   "cell_type": "code",
   "execution_count": 22,
   "metadata": {},
   "outputs": [
    {
     "data": {
      "text/plain": [
       "Text(0, 0.5, 'precision')"
      ]
     },
     "execution_count": 22,
     "metadata": {},
     "output_type": "execute_result"
    },
    {
     "data": {
      "image/png": "[encoded data removed]",
      "text/plain": [
       "<Figure size 700x700 with 1 Axes>"
      ]
     },
     "metadata": {},
     "output_type": "display_data"
    }
   ],
   "source": [
    "plt.figure(figsize=(7,7))\n",
    "plt.plot(recalls,precisions)\n",
    "plt.xlabel('recall')\n",
    "plt.ylabel('precision')"
   ]
  },
  {
   "cell_type": "code",
   "execution_count": 23,
   "metadata": {},
   "outputs": [],
   "source": [
    "def f1(y_true,y_pred):\n",
    "    \"\"\"\n",
    "    calculates the F1 statistic\n",
    "    :param y_true:\n",
    "    :param y_pred:\n",
    "    :return: f1 score\n",
    "    \"\"\"\n",
    "\n",
    "    p = precision(y_true,y_pred)\n",
    "    r = recall(y_true,y_pred)\n",
    "\n",
    "    f1 = 2 * p * r / (p + r)\n",
    "\n",
    "    return f1"
   ]
  },
  {
   "cell_type": "code",
   "execution_count": 24,
   "metadata": {},
   "outputs": [
    {
     "data": {
      "text/plain": [
       "0.5714285714285715"
      ]
     },
     "execution_count": 24,
     "metadata": {},
     "output_type": "execute_result"
    }
   ],
   "source": [
    "y_true = [0,0,1,0,0,0,0,0,0,1,0,0,0,0,0,0,0,0,1,0]\n",
    "\n",
    "y_pred = [0,0,1,0,0,0,1,0,0,0,0,1,0,0,0,0,0,0,1,0]\n",
    "\n",
    "f1(y_true,y_pred)"
   ]
  },
  {
   "cell_type": "code",
   "execution_count": 25,
   "metadata": {},
   "outputs": [
    {
     "data": {
      "text/plain": [
       "0.5714285714285714"
      ]
     },
     "execution_count": 25,
     "metadata": {},
     "output_type": "execute_result"
    }
   ],
   "source": [
    "from sklearn import metrics\n",
    "\n",
    "metrics.f1_score(y_true,y_pred)"
   ]
  },
  {
   "cell_type": "code",
   "execution_count": 28,
   "metadata": {},
   "outputs": [],
   "source": [
    "def tpr(y_true,y_pred):\n",
    "    \"\"\"\n",
    "    Calculates True Positive Rate which is just Recall\n",
    "    :Param y_true\n",
    "    :param y_pred\n",
    "    :return: recall\n",
    "    \"\"\"\n",
    "\n",
    "    return recall(y_true,y_pred)"
   ]
  },
  {
   "cell_type": "code",
   "execution_count": 29,
   "metadata": {},
   "outputs": [
    {
     "data": {
      "text/plain": [
       "0.6666666666666666"
      ]
     },
     "execution_count": 29,
     "metadata": {},
     "output_type": "execute_result"
    }
   ],
   "source": [
    "tpr(y_true,y_pred)"
   ]
  },
  {
   "cell_type": "code",
   "execution_count": 30,
   "metadata": {},
   "outputs": [],
   "source": [
    "def fpr(y_true, y_pred):\n",
    "    \"\"\"\n",
    "    function to calculate precision\n",
    "    :param y_true\n",
    "    :param y_pred\n",
    "    return recall socre\n",
    "    \"\"\"\n",
    "\n",
    "    fp = false_positive(y_true,y_pred)\n",
    "    tn = true_negatives(y_true,y_pred)\n",
    "    fprate = fp / (tn + fp)\n",
    "    return fprate"
   ]
  },
  {
   "cell_type": "code",
   "execution_count": 31,
   "metadata": {},
   "outputs": [
    {
     "data": {
      "text/plain": [
       "0.11764705882352941"
      ]
     },
     "execution_count": 31,
     "metadata": {},
     "output_type": "execute_result"
    }
   ],
   "source": [
    "fpr(y_true,y_pred)"
   ]
  },
  {
   "cell_type": "code",
   "execution_count": 33,
   "metadata": {},
   "outputs": [],
   "source": [
    "tpr_list = []\n",
    "fpr_list = []\n",
    "\n",
    "#actual values\n",
    "y_true = [0,0,0,0,1,0,1,\n",
    "          0,0,1,0,1,0,0,1]\n",
    "\n",
    "# predicted values\n",
    "\n",
    "y_pred = [0.1,0.3,0.2,0.6,0.8,0.5,\n",
    "          0.9,0.5,0.3,0.66,0.3,0.2,\n",
    "          0.85,0.15,0.99]\n",
    "\n",
    "# handmade thresholds\n",
    "\n",
    "thresholds = [0,0.1, 0.2, 0.3, 0.4, 0.5, 0.6, 0.7, 0.85, 0.9, 0.99, 1.0]\n",
    "\n",
    "\n",
    "for thresh in thresholds:\n",
    "    temp_pred = [1 if x>= thresh else 0 for x in y_pred]\n",
    "\n",
    "    temp_tpr = tpr(y_true,temp_pred)\n",
    "\n",
    "    temp_fpr = fpr(y_true, temp_pred)\n",
    "\n",
    "    tpr_list.append(temp_tpr)\n",
    "    fpr_list.append(temp_fpr)"
   ]
  },
  {
   "cell_type": "code",
   "execution_count": 35,
   "metadata": {},
   "outputs": [
    {
     "data": {
      "text/plain": [
       "<function matplotlib.pyplot.show(close=None, block=None)>"
      ]
     },
     "execution_count": 35,
     "metadata": {},
     "output_type": "execute_result"
    },
    {
     "data": {
      "image/png": "[encoded data removed]",
      "text/plain": [
       "<Figure size 700x700 with 1 Axes>"
      ]
     },
     "metadata": {},
     "output_type": "display_data"
    }
   ],
   "source": [
    "plt.figure(figsize=(7,7))\n",
    "plt.fill_between(fpr_list,tpr_list,alpha=0.4)\n",
    "plt.plot(fpr_list,tpr_list,lw=3)\n",
    "plt.xlim(0,1.0)\n",
    "plt.ylim(0,1.0)\n",
    "plt.xlabel('FPR',fontsize=15)\n",
    "plt.ylabel('TPR',fontsize=15)\n",
    "plt.show"
   ]
  },
  {
   "cell_type": "code",
   "execution_count": 36,
   "metadata": {},
   "outputs": [
    {
     "data": {
      "text/plain": [
       "0.81"
      ]
     },
     "execution_count": 36,
     "metadata": {},
     "output_type": "execute_result"
    }
   ],
   "source": [
    "metrics.roc_auc_score(y_true,y_pred)"
   ]
  },
  {
   "cell_type": "code",
   "execution_count": 37,
   "metadata": {},
   "outputs": [],
   "source": [
    "tp_list = []\n",
    "fp_list = [] \n",
    "\n",
    "#actual Targets\n",
    "\n",
    "y_true = [0, 0, 0, 0, 1, 0, 1, 0, 0, 1,0, 1,0,0,1]\n"
   ]
  },
  {
   "cell_type": "code",
   "execution_count": 39,
   "metadata": {},
   "outputs": [],
   "source": [
    "import numpy as np\n",
    "\n",
    "def log_loss(y_true,y_proba):\n",
    "    \"\"\"\n",
    "    Function to calculate log loss\n",
    "    :param y_true: \n",
    "    param y_proba: \n",
    "    :return: overall log loss\n",
    "\n",
    "\n",
    "    \"\"\"\n",
    "\n",
    "    epsilon = 1e-15\n",
    "\n",
    "    loss = []\n",
    "\n",
    "    for yt, yp in zip(y_true,y_proba):\n",
    "        yp = np.clip(yp,epsilon, 1-epsilon)\n",
    "\n",
    "        temp_loss = -1 * (\n",
    "            yt * np.log(yp)\n",
    "            + (1-yt) * np.log(1-yp)\n",
    "        )\n",
    "        loss.append(temp_loss)\n",
    "\n",
    "    return np.mean(loss)"
   ]
  },
  {
   "cell_type": "code",
   "execution_count": 40,
   "metadata": {},
   "outputs": [
    {
     "data": {
      "text/plain": [
       "0.49882711861432294"
      ]
     },
     "execution_count": 40,
     "metadata": {},
     "output_type": "execute_result"
    }
   ],
   "source": [
    "y_proba = [0.1, 0.3, 0.2, 0.6, 0.8, 0.05,\n",
    "           0.9, 0.5, 0.3, 0.66, 0.3, 0.2 , \n",
    "           0.85, 0.15, 0.99]\n",
    "\n",
    "log_loss(y_true,y_proba)"
   ]
  },
  {
   "cell_type": "code",
   "execution_count": 41,
   "metadata": {},
   "outputs": [
    {
     "data": {
      "text/plain": [
       "0.49882711861432294"
      ]
     },
     "execution_count": 41,
     "metadata": {},
     "output_type": "execute_result"
    }
   ],
   "source": [
    "metrics.log_loss(y_true,y_proba)"
   ]
  },
  {
   "cell_type": "code",
   "execution_count": null,
   "metadata": {},
   "outputs": [],
   "source": []
  }
 ],
 "metadata": {
  "kernelspec": {
   "display_name": ".venv",
   "language": "python",
   "name": "python3"
  },
  "language_info": {
   "codemirror_mode": {
    "name": "ipython",
    "version": 3
   },
   "file_extension": ".py",
   "mimetype": "text/x-python",
   "name": "python",
   "nbconvert_exporter": "python",
   "pygments_lexer": "ipython3",
   "version": "3.11.8"
  }
 },
 "nbformat": 4,
 "nbformat_minor": 2
}
